{
 "cells": [
  {
   "cell_type": "code",
   "execution_count": 2,
   "id": "a767dce8",
   "metadata": {},
   "outputs": [],
   "source": [
    "import regex as re\n",
    "import unicodedata\n",
    "import pandas as pd\n",
    "import os"
   ]
  },
  {
   "cell_type": "code",
   "execution_count": 3,
   "id": "6701a166",
   "metadata": {},
   "outputs": [],
   "source": [
    "# a??  dopasuj mozliwie malo\n",
    "# *?\n",
    "# +?\n",
    "# ??\n",
    "# flaga ignore case\n",
    "# 1996_400 do usuniecie bo tam jakis syf\n",
    "# liczba w nazwie pliku to nie jest rok"
   ]
  },
  {
   "cell_type": "code",
   "execution_count": 4,
   "id": "cb89a4ff",
   "metadata": {},
   "outputs": [],
   "source": [
    "directory = 'ustawy'\n",
    "\n",
    "regex_addition = re.compile(r'dodaje\\ssi[eę]\\s(ust\\.|ust|pkt|art\\.|art|§|rozdział|tiret|lit\\.|lit)')\n",
    "regex_removal = re.compile(r'(skreśla|uchyla)\\ssię(;|:|\\sart|\\spkt|\\sust|\\s§|\\srozdzial|\\stiret|\\slit|\\.)')\n",
    "regex_change = re.compile(r'otrzymuj[eą] brzmienie:')\n",
    "regex_year = re.compile(r'z\\sdnia\\s\\d+\\s\\w+\\s(\\d+)', re.IGNORECASE)"
   ]
  },
  {
   "cell_type": "code",
   "execution_count": 5,
   "id": "140beffb",
   "metadata": {},
   "outputs": [],
   "source": [
    "def count_amendments(pattern, directory, year = False):\n",
    "    result = []\n",
    "    for file_name in os.listdir(directory):\n",
    "        file = os.path.join(directory, file_name)\n",
    "        with open(file, encoding='utf-8') as f:\n",
    "            lines = f.read()\n",
    "            text = unicodedata.normalize('NFKC', lines)\n",
    "            text = text.replace(\"\\xa0\", \" \").replace(\"\\xad\", \"\")\n",
    "            text = re.sub(r\"\\s+\", \" \", text)\n",
    "            text = text.lower()\n",
    "            if not year:\n",
    "                n = re.findall(pattern, text)\n",
    "                result.append(len(n))\n",
    "            else:\n",
    "                n = int(re.search(pattern, text).group(1))\n",
    "                result.append(n)\n",
    "    return result"
   ]
  },
  {
   "cell_type": "code",
   "execution_count": 6,
   "id": "23e2acdd",
   "metadata": {},
   "outputs": [],
   "source": [
    "additions = count_amendments(regex_addition, directory)\n",
    "removals = count_amendments(regex_removal, directory)\n",
    "changes = count_amendments(regex_change, directory)\n",
    "years = count_amendments(regex_year, directory, year = True)"
   ]
  },
  {
   "cell_type": "code",
   "execution_count": 7,
   "id": "9d38ec0d",
   "metadata": {},
   "outputs": [],
   "source": [
    "bills = pd.DataFrame(os.listdir(directory))\n",
    "bills['year'] = years\n",
    "bills['additions'] = additions\n",
    "bills['removals'] = removals\n",
    "bills['changes'] = changes\n",
    "bills.columns = ['name', 'year', 'additions', 'removals', 'changes']"
   ]
  },
  {
   "cell_type": "code",
   "execution_count": 9,
   "id": "16103a41",
   "metadata": {},
   "outputs": [
    {
     "data": {
      "text/plain": [
       "6239"
      ]
     },
     "execution_count": 9,
     "metadata": {},
     "output_type": "execute_result"
    }
   ],
   "source": [
    "bills['additions'].sum()"
   ]
  },
  {
   "cell_type": "code",
   "execution_count": 7,
   "id": "acd17ffe",
   "metadata": {},
   "outputs": [],
   "source": [
    "bills_yearly = bills.groupby('year').sum()\n",
    "bills_yearly['total'] = bills_yearly['additions'] + bills_yearly['removals'] + bills_yearly['changes']\n",
    "bills_yearly['additions_%total'] = bills_yearly['additions'] / bills_yearly['total'] * 100\n",
    "bills_yearly['removals_%total'] = bills_yearly['removals'] / bills_yearly['total'] * 100\n",
    "bills_yearly['changes_%total'] = bills_yearly['changes'] / bills_yearly['total'] * 100"
   ]
  },
  {
   "cell_type": "code",
   "execution_count": 8,
   "id": "62248af1",
   "metadata": {},
   "outputs": [
    {
     "data": {
      "text/html": [
       "<div>\n",
       "<style scoped>\n",
       "    .dataframe tbody tr th:only-of-type {\n",
       "        vertical-align: middle;\n",
       "    }\n",
       "\n",
       "    .dataframe tbody tr th {\n",
       "        vertical-align: top;\n",
       "    }\n",
       "\n",
       "    .dataframe thead th {\n",
       "        text-align: right;\n",
       "    }\n",
       "</style>\n",
       "<table border=\"1\" class=\"dataframe\">\n",
       "  <thead>\n",
       "    <tr style=\"text-align: right;\">\n",
       "      <th></th>\n",
       "      <th>additions_%total</th>\n",
       "      <th>removals_%total</th>\n",
       "      <th>changes_%total</th>\n",
       "    </tr>\n",
       "    <tr>\n",
       "      <th>year</th>\n",
       "      <th></th>\n",
       "      <th></th>\n",
       "      <th></th>\n",
       "    </tr>\n",
       "  </thead>\n",
       "  <tbody>\n",
       "    <tr>\n",
       "      <th>1993</th>\n",
       "      <td>32.142857</td>\n",
       "      <td>7.142857</td>\n",
       "      <td>60.714286</td>\n",
       "    </tr>\n",
       "    <tr>\n",
       "      <th>1994</th>\n",
       "      <td>41.346154</td>\n",
       "      <td>15.865385</td>\n",
       "      <td>42.788462</td>\n",
       "    </tr>\n",
       "    <tr>\n",
       "      <th>1995</th>\n",
       "      <td>36.991870</td>\n",
       "      <td>12.195122</td>\n",
       "      <td>50.813008</td>\n",
       "    </tr>\n",
       "    <tr>\n",
       "      <th>1996</th>\n",
       "      <td>29.580348</td>\n",
       "      <td>15.455476</td>\n",
       "      <td>54.964176</td>\n",
       "    </tr>\n",
       "    <tr>\n",
       "      <th>1997</th>\n",
       "      <td>32.879819</td>\n",
       "      <td>13.076342</td>\n",
       "      <td>54.043840</td>\n",
       "    </tr>\n",
       "    <tr>\n",
       "      <th>1998</th>\n",
       "      <td>28.209459</td>\n",
       "      <td>15.033784</td>\n",
       "      <td>56.756757</td>\n",
       "    </tr>\n",
       "    <tr>\n",
       "      <th>1999</th>\n",
       "      <td>37.455197</td>\n",
       "      <td>12.365591</td>\n",
       "      <td>50.179211</td>\n",
       "    </tr>\n",
       "    <tr>\n",
       "      <th>2000</th>\n",
       "      <td>32.770503</td>\n",
       "      <td>12.405238</td>\n",
       "      <td>54.824259</td>\n",
       "    </tr>\n",
       "    <tr>\n",
       "      <th>2001</th>\n",
       "      <td>37.946013</td>\n",
       "      <td>11.107664</td>\n",
       "      <td>50.946323</td>\n",
       "    </tr>\n",
       "    <tr>\n",
       "      <th>2002</th>\n",
       "      <td>27.083333</td>\n",
       "      <td>4.166667</td>\n",
       "      <td>68.750000</td>\n",
       "    </tr>\n",
       "    <tr>\n",
       "      <th>2003</th>\n",
       "      <td>25.208681</td>\n",
       "      <td>9.015025</td>\n",
       "      <td>65.776294</td>\n",
       "    </tr>\n",
       "    <tr>\n",
       "      <th>2004</th>\n",
       "      <td>33.900365</td>\n",
       "      <td>6.439854</td>\n",
       "      <td>59.659781</td>\n",
       "    </tr>\n",
       "    <tr>\n",
       "      <th>2006</th>\n",
       "      <td>25.984252</td>\n",
       "      <td>11.023622</td>\n",
       "      <td>62.992126</td>\n",
       "    </tr>\n",
       "    <tr>\n",
       "      <th>2007</th>\n",
       "      <td>32.958035</td>\n",
       "      <td>7.983623</td>\n",
       "      <td>59.058342</td>\n",
       "    </tr>\n",
       "    <tr>\n",
       "      <th>2008</th>\n",
       "      <td>25.000000</td>\n",
       "      <td>13.461538</td>\n",
       "      <td>61.538462</td>\n",
       "    </tr>\n",
       "    <tr>\n",
       "      <th>2009</th>\n",
       "      <td>27.298851</td>\n",
       "      <td>9.195402</td>\n",
       "      <td>63.505747</td>\n",
       "    </tr>\n",
       "    <tr>\n",
       "      <th>2010</th>\n",
       "      <td>27.685950</td>\n",
       "      <td>10.330579</td>\n",
       "      <td>61.983471</td>\n",
       "    </tr>\n",
       "    <tr>\n",
       "      <th>2011</th>\n",
       "      <td>28.488372</td>\n",
       "      <td>10.465116</td>\n",
       "      <td>61.046512</td>\n",
       "    </tr>\n",
       "    <tr>\n",
       "      <th>2012</th>\n",
       "      <td>40.336134</td>\n",
       "      <td>14.285714</td>\n",
       "      <td>45.378151</td>\n",
       "    </tr>\n",
       "    <tr>\n",
       "      <th>2013</th>\n",
       "      <td>43.601896</td>\n",
       "      <td>4.502370</td>\n",
       "      <td>51.895735</td>\n",
       "    </tr>\n",
       "    <tr>\n",
       "      <th>2014</th>\n",
       "      <td>31.404959</td>\n",
       "      <td>8.815427</td>\n",
       "      <td>59.779614</td>\n",
       "    </tr>\n",
       "    <tr>\n",
       "      <th>2015</th>\n",
       "      <td>33.886256</td>\n",
       "      <td>8.293839</td>\n",
       "      <td>57.819905</td>\n",
       "    </tr>\n",
       "    <tr>\n",
       "      <th>2016</th>\n",
       "      <td>39.743590</td>\n",
       "      <td>10.256410</td>\n",
       "      <td>50.000000</td>\n",
       "    </tr>\n",
       "    <tr>\n",
       "      <th>2017</th>\n",
       "      <td>32.315522</td>\n",
       "      <td>9.287532</td>\n",
       "      <td>58.396947</td>\n",
       "    </tr>\n",
       "    <tr>\n",
       "      <th>2018</th>\n",
       "      <td>38.416988</td>\n",
       "      <td>7.528958</td>\n",
       "      <td>54.054054</td>\n",
       "    </tr>\n",
       "  </tbody>\n",
       "</table>\n",
       "</div>"
      ],
      "text/plain": [
       "      additions_%total  removals_%total  changes_%total\n",
       "year                                                   \n",
       "1993         32.142857         7.142857       60.714286\n",
       "1994         41.346154        15.865385       42.788462\n",
       "1995         36.991870        12.195122       50.813008\n",
       "1996         29.580348        15.455476       54.964176\n",
       "1997         32.879819        13.076342       54.043840\n",
       "1998         28.209459        15.033784       56.756757\n",
       "1999         37.455197        12.365591       50.179211\n",
       "2000         32.770503        12.405238       54.824259\n",
       "2001         37.946013        11.107664       50.946323\n",
       "2002         27.083333         4.166667       68.750000\n",
       "2003         25.208681         9.015025       65.776294\n",
       "2004         33.900365         6.439854       59.659781\n",
       "2006         25.984252        11.023622       62.992126\n",
       "2007         32.958035         7.983623       59.058342\n",
       "2008         25.000000        13.461538       61.538462\n",
       "2009         27.298851         9.195402       63.505747\n",
       "2010         27.685950        10.330579       61.983471\n",
       "2011         28.488372        10.465116       61.046512\n",
       "2012         40.336134        14.285714       45.378151\n",
       "2013         43.601896         4.502370       51.895735\n",
       "2014         31.404959         8.815427       59.779614\n",
       "2015         33.886256         8.293839       57.819905\n",
       "2016         39.743590        10.256410       50.000000\n",
       "2017         32.315522         9.287532       58.396947\n",
       "2018         38.416988         7.528958       54.054054"
      ]
     },
     "execution_count": 8,
     "metadata": {},
     "output_type": "execute_result"
    }
   ],
   "source": [
    "bills_yearly[['additions_%total', 'removals_%total', 'changes_%total']]"
   ]
  },
  {
   "cell_type": "code",
   "execution_count": 9,
   "id": "8bbe814e",
   "metadata": {},
   "outputs": [
    {
     "data": {
      "text/plain": [
       "<AxesSubplot:xlabel='year'>"
      ]
     },
     "execution_count": 9,
     "metadata": {},
     "output_type": "execute_result"
    },
    {
     "data": {
      "image/png": "[encoded data removed]",
      "text/plain": [
       "<Figure size 864x720 with 1 Axes>"
      ]
     },
     "metadata": {
      "needs_background": "light"
     },
     "output_type": "display_data"
    }
   ],
   "source": [
    "bills_yearly[['additions_%total', 'removals_%total', 'changes_%total']].plot.bar(stacked = True, figsize=(12, 10))"
   ]
  },
  {
   "cell_type": "markdown",
   "id": "704dc2f5",
   "metadata": {},
   "source": [
    "## Ustawa"
   ]
  },
  {
   "cell_type": "code",
   "execution_count": 10,
   "id": "1e2067a9",
   "metadata": {},
   "outputs": [],
   "source": [
    "ustawa_regex = re.compile(r'\\W?usta(wa|w|wy|wom|wę|wą|wami|wie|wach|wo)\\W', re.IGNORECASE)\n",
    "ustawa_z_dnia_regex = re.compile(r'\\W?usta(w|wa|wy|wom|wę|wą|wami|wie|wach|wo)\\W(?=z\\sdnia)', re.IGNORECASE)\n",
    "ustawa_nie_z_dnia_regex = re.compile(r'\\W?usta(w|wa|wy|wom|wę|wą|wami|wie|wach|wo)\\W(?!z\\sdnia)', re.IGNORECASE)\n",
    "\n",
    "ustawa_count = count_amendments(ustawa_regex, directory)\n",
    "ustawa_z_dnia_count = count_amendments(ustawa_z_dnia_regex, directory)\n",
    "ustawa_nie_z_dnia_count = count_amendments(ustawa_nie_z_dnia_regex, directory)"
   ]
  },
  {
   "cell_type": "code",
   "execution_count": 11,
   "id": "5acf7e20",
   "metadata": {},
   "outputs": [
    {
     "name": "stdout",
     "output_type": "stream",
     "text": [
      "24940\n",
      "8588\n",
      "16352\n"
     ]
    }
   ],
   "source": [
    "print(sum(ustawa_count))\n",
    "print(sum(ustawa_z_dnia_count))\n",
    "print(sum(ustawa_nie_z_dnia_count))"
   ]
  },
  {
   "cell_type": "code",
   "execution_count": 12,
   "id": "827d5294",
   "metadata": {},
   "outputs": [
    {
     "data": {
      "text/plain": [
       "True"
      ]
     },
     "execution_count": 12,
     "metadata": {},
     "output_type": "execute_result"
    }
   ],
   "source": [
    "sum(ustawa_z_dnia_count + ustawa_nie_z_dnia_count) == sum(ustawa_count)"
   ]
  },
  {
   "cell_type": "code",
   "execution_count": 13,
   "id": "5ed9db4f",
   "metadata": {},
   "outputs": [],
   "source": [
    "ustawa_bez_zmiany_regex = re.compile(r\"(?<!o\\Wzmianie\\W)usta(wa|w|wy|wom|wę|wą|wami|wie|wach|wo)\\W\", re.IGNORECASE)\n",
    "ustawa_bez_zmiany_count = count_amendments(ustawa_bez_zmiany_regex, directory)"
   ]
  },
  {
   "cell_type": "code",
   "execution_count": 14,
   "id": "f6becc2a",
   "metadata": {},
   "outputs": [
    {
     "data": {
      "text/plain": [
       "24074"
      ]
     },
     "execution_count": 14,
     "metadata": {},
     "output_type": "execute_result"
    }
   ],
   "source": [
    "sum(ustawa_bez_zmiany_count)"
   ]
  },
  {
   "cell_type": "code",
   "execution_count": 15,
   "id": "0e1e0429",
   "metadata": {},
   "outputs": [],
   "source": [
    "ustawa_dict = {\n",
    "    'ustawa_count' : sum(ustawa_count),\n",
    "    'ustawa_z_dnia_count': sum(ustawa_z_dnia_count),\n",
    "    'ustawa_nie_z_dnia_count': sum(ustawa_nie_z_dnia_count),\n",
    "    'ustawa_bez_zmiany_count': sum(ustawa_bez_zmiany_count)\n",
    "}"
   ]
  },
  {
   "cell_type": "code",
   "execution_count": 16,
   "id": "870c2b47",
   "metadata": {},
   "outputs": [
    {
     "data": {
      "text/plain": [
       "<BarContainer object of 4 artists>"
      ]
     },
     "execution_count": 16,
     "metadata": {},
     "output_type": "execute_result"
    },
    {
     "data": {
      "image/png": "[encoded data removed]",
      "text/plain": [
       "<Figure size 720x360 with 1 Axes>"
      ]
     },
     "metadata": {
      "needs_background": "light"
     },
     "output_type": "display_data"
    }
   ],
   "source": [
    "import matplotlib.pyplot as plt\n",
    "courses = list(ustawa_dict.keys())\n",
    "values = list(ustawa_dict.values())\n",
    "  \n",
    "fig = plt.figure(figsize = (10, 5))\n",
    " \n",
    "# creating the bar plot\n",
    "plt.bar(list(ustawa_dict.keys()), list(ustawa_dict.values()))"
   ]
  },
  {
   "cell_type": "code",
   "execution_count": null,
   "id": "db312872",
   "metadata": {},
   "outputs": [],
   "source": []
  }
 ],
 "metadata": {
  "kernelspec": {
   "display_name": "Python 3 (ipykernel)",
   "language": "python",
   "name": "python3"
  },
  "language_info": {
   "codemirror_mode": {
    "name": "ipython",
    "version": 3
   },
   "file_extension": ".py",
   "mimetype": "text/x-python",
   "name": "python",
   "nbconvert_exporter": "python",
   "pygments_lexer": "ipython3",
   "version": "3.9.7"
  }
 },
 "nbformat": 4,
 "nbformat_minor": 5
}
