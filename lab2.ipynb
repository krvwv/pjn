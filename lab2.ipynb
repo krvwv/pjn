{
 "cells": [
  {
   "cell_type": "code",
   "execution_count": 1,
   "id": "64e42c30",
   "metadata": {
    "collapsed": true
   },
   "outputs": [
    {
     "name": "stdout",
     "output_type": "stream",
     "text": [
      "Collecting elasticsearch==8.4.3\n",
      "  Downloading elasticsearch-8.4.3-py3-none-any.whl (384 kB)\n",
      "Requirement already satisfied: elastic-transport<9,>=8 in d:\\anaconda3\\lib\\site-packages (from elasticsearch==8.4.3) (8.4.0)\n",
      "Requirement already satisfied: certifi in d:\\anaconda3\\lib\\site-packages (from elastic-transport<9,>=8->elasticsearch==8.4.3) (2021.10.8)\n",
      "Requirement already satisfied: urllib3<2,>=1.26.2 in d:\\anaconda3\\lib\\site-packages (from elastic-transport<9,>=8->elasticsearch==8.4.3) (1.26.7)\n",
      "Installing collected packages: elasticsearch\n",
      "  Attempting uninstall: elasticsearch\n",
      "    Found existing installation: elasticsearch 8.5.0\n",
      "    Uninstalling elasticsearch-8.5.0:\n",
      "      Successfully uninstalled elasticsearch-8.5.0\n",
      "Successfully installed elasticsearch-8.4.3\n"
     ]
    }
   ],
   "source": [
    "#!pip install elasticsearch==8.4.3"
   ]
  },
  {
   "cell_type": "code",
   "execution_count": 1,
   "id": "887dd21e",
   "metadata": {},
   "outputs": [],
   "source": [
    "import elasticsearch"
   ]
  },
  {
   "cell_type": "code",
   "execution_count": 2,
   "id": "896d7984",
   "metadata": {},
   "outputs": [],
   "source": [
    "import os\n",
    "import re"
   ]
  },
  {
   "cell_type": "code",
   "execution_count": 3,
   "id": "bc0d390b",
   "metadata": {},
   "outputs": [],
   "source": [
    "es = elasticsearch.Elasticsearch(\"http://localhost:9200\")"
   ]
  },
  {
   "cell_type": "code",
   "execution_count": 4,
   "id": "9fb3541a",
   "metadata": {},
   "outputs": [
    {
     "data": {
      "text/plain": [
       "ObjectApiResponse({'name': 'DESKTOP-3PJFB14', 'cluster_name': 'elasticsearch', 'cluster_uuid': 'HNdRkjgTQOu3TndAoHzH_w', 'version': {'number': '8.4.3', 'build_flavor': 'default', 'build_type': 'zip', 'build_hash': '42f05b9372a9a4a470db3b52817899b99a76ee73', 'build_date': '2022-10-04T07:17:24.662462378Z', 'build_snapshot': False, 'lucene_version': '9.3.0', 'minimum_wire_compatibility_version': '7.17.0', 'minimum_index_compatibility_version': '7.0.0'}, 'tagline': 'You Know, for Search'})"
      ]
     },
     "execution_count": 4,
     "metadata": {},
     "output_type": "execute_result"
    }
   ],
   "source": [
    "es.info()"
   ]
  },
  {
   "cell_type": "markdown",
   "id": "ba421dd1",
   "metadata": {},
   "source": [
    "### 3. Define an ES analyzer for Polish texts"
   ]
  },
  {
   "cell_type": "code",
   "execution_count": 5,
   "id": "4a8e3b9c",
   "metadata": {},
   "outputs": [],
   "source": [
    "SYNONYMS = [\"kpk,kodeks postępowania karnego\",\n",
    "            \"kpc,kodeks postępowania cywilnego\",\n",
    "            \"kk,kodeks karny\",\n",
    "            \"kc,kodeks cywilny\"]\n",
    "\n",
    "ANALYZER_NAME = 'bills_analyzer'\n",
    "INDEX_NAME = 'bills_index'"
   ]
  },
  {
   "cell_type": "code",
   "execution_count": 6,
   "id": "c1e26ee5",
   "metadata": {},
   "outputs": [],
   "source": [
    "analyzer = {\n",
    "    f\"{ANALYZER_NAME}\": {\n",
    "        'type': 'custom',\n",
    "        'tokenizer': 'standard',\n",
    "        'filter':[\n",
    "            'lowercase',\n",
    "            'synonym',\n",
    "            'morfologik_stem'\n",
    "        ]\n",
    "    }\n",
    "}\n",
    "\n",
    "synonym = {\n",
    "    'synonym': {\n",
    "        'type':'synonym',\n",
    "        'synonyms': SYNONYMS\n",
    "    }\n",
    "}\n",
    "\n",
    "mapping = {\n",
    "    \"properties\": {\n",
    "      \"text\": { \n",
    "        \"type\": \"text\",\n",
    "        \"analyzer\": f\"{ANALYZER_NAME}\"\n",
    "      }\n",
    "    }\n",
    "}"
   ]
  },
  {
   "cell_type": "markdown",
   "id": "00971fca",
   "metadata": {},
   "source": [
    "### 4. Define an ES index"
   ]
  },
  {
   "cell_type": "code",
   "execution_count": 7,
   "id": "aca79f37",
   "metadata": {
    "collapsed": true
   },
   "outputs": [
    {
     "ename": "BadRequestError",
     "evalue": "BadRequestError(400, 'resource_already_exists_exception', 'index [bills_index/PqatbuxbQD-VdUk3cvLC9w] already exists')",
     "output_type": "error",
     "traceback": [
      "\u001b[1;31m---------------------------------------------------------------------------\u001b[0m",
      "\u001b[1;31mBadRequestError\u001b[0m                           Traceback (most recent call last)",
      "\u001b[1;32m<ipython-input-7-0d6caeb85b56>\u001b[0m in \u001b[0;36m<module>\u001b[1;34m\u001b[0m\n\u001b[1;32m----> 1\u001b[1;33m indx = es.indices.create(index = INDEX_NAME,\n\u001b[0m\u001b[0;32m      2\u001b[0m                         \u001b[0mmappings\u001b[0m \u001b[1;33m=\u001b[0m \u001b[0mmapping\u001b[0m\u001b[1;33m,\u001b[0m\u001b[1;33m\u001b[0m\u001b[1;33m\u001b[0m\u001b[0m\n\u001b[0;32m      3\u001b[0m                         settings = {\n\u001b[0;32m      4\u001b[0m                             'analysis' : {\n\u001b[0;32m      5\u001b[0m                                 \u001b[1;34m'analyzer'\u001b[0m \u001b[1;33m:\u001b[0m \u001b[0manalyzer\u001b[0m\u001b[1;33m,\u001b[0m\u001b[1;33m\u001b[0m\u001b[1;33m\u001b[0m\u001b[0m\n",
      "\u001b[1;32mD:\\anaconda3\\lib\\site-packages\\elasticsearch\\_sync\\client\\utils.py\u001b[0m in \u001b[0;36mwrapped\u001b[1;34m(*args, **kwargs)\u001b[0m\n\u001b[0;32m    412\u001b[0m                         \u001b[1;32mpass\u001b[0m\u001b[1;33m\u001b[0m\u001b[1;33m\u001b[0m\u001b[0m\n\u001b[0;32m    413\u001b[0m \u001b[1;33m\u001b[0m\u001b[0m\n\u001b[1;32m--> 414\u001b[1;33m             \u001b[1;32mreturn\u001b[0m \u001b[0mapi\u001b[0m\u001b[1;33m(\u001b[0m\u001b[1;33m*\u001b[0m\u001b[0margs\u001b[0m\u001b[1;33m,\u001b[0m \u001b[1;33m**\u001b[0m\u001b[0mkwargs\u001b[0m\u001b[1;33m)\u001b[0m\u001b[1;33m\u001b[0m\u001b[1;33m\u001b[0m\u001b[0m\n\u001b[0m\u001b[0;32m    415\u001b[0m \u001b[1;33m\u001b[0m\u001b[0m\n\u001b[0;32m    416\u001b[0m         \u001b[1;32mreturn\u001b[0m \u001b[0mwrapped\u001b[0m  \u001b[1;31m# type: ignore[return-value]\u001b[0m\u001b[1;33m\u001b[0m\u001b[1;33m\u001b[0m\u001b[0m\n",
      "\u001b[1;32mD:\\anaconda3\\lib\\site-packages\\elasticsearch\\_sync\\client\\indices.py\u001b[0m in \u001b[0;36mcreate\u001b[1;34m(self, index, aliases, error_trace, filter_path, human, mappings, master_timeout, pretty, settings, timeout, wait_for_active_shards)\u001b[0m\n\u001b[0;32m    515\u001b[0m         \u001b[1;32mif\u001b[0m \u001b[0m__body\u001b[0m \u001b[1;32mis\u001b[0m \u001b[1;32mnot\u001b[0m \u001b[1;32mNone\u001b[0m\u001b[1;33m:\u001b[0m\u001b[1;33m\u001b[0m\u001b[1;33m\u001b[0m\u001b[0m\n\u001b[0;32m    516\u001b[0m             \u001b[0m__headers\u001b[0m\u001b[1;33m[\u001b[0m\u001b[1;34m\"content-type\"\u001b[0m\u001b[1;33m]\u001b[0m \u001b[1;33m=\u001b[0m \u001b[1;34m\"application/json\"\u001b[0m\u001b[1;33m\u001b[0m\u001b[1;33m\u001b[0m\u001b[0m\n\u001b[1;32m--> 517\u001b[1;33m         return self.perform_request(  # type: ignore[return-value]\n\u001b[0m\u001b[0;32m    518\u001b[0m             \u001b[1;34m\"PUT\"\u001b[0m\u001b[1;33m,\u001b[0m \u001b[0m__path\u001b[0m\u001b[1;33m,\u001b[0m \u001b[0mparams\u001b[0m\u001b[1;33m=\u001b[0m\u001b[0m__query\u001b[0m\u001b[1;33m,\u001b[0m \u001b[0mheaders\u001b[0m\u001b[1;33m=\u001b[0m\u001b[0m__headers\u001b[0m\u001b[1;33m,\u001b[0m \u001b[0mbody\u001b[0m\u001b[1;33m=\u001b[0m\u001b[0m__body\u001b[0m\u001b[1;33m\u001b[0m\u001b[1;33m\u001b[0m\u001b[0m\n\u001b[0;32m    519\u001b[0m         )\n",
      "\u001b[1;32mD:\\anaconda3\\lib\\site-packages\\elasticsearch\\_sync\\client\\_base.py\u001b[0m in \u001b[0;36mperform_request\u001b[1;34m(self, method, path, params, headers, body)\u001b[0m\n\u001b[0;32m    388\u001b[0m         \u001b[1;31m# Use the internal clients .perform_request() implementation\u001b[0m\u001b[1;33m\u001b[0m\u001b[1;33m\u001b[0m\u001b[0m\n\u001b[0;32m    389\u001b[0m         \u001b[1;31m# so we take advantage of their transport options.\u001b[0m\u001b[1;33m\u001b[0m\u001b[1;33m\u001b[0m\u001b[0m\n\u001b[1;32m--> 390\u001b[1;33m         return self._client.perform_request(\n\u001b[0m\u001b[0;32m    391\u001b[0m             \u001b[0mmethod\u001b[0m\u001b[1;33m,\u001b[0m \u001b[0mpath\u001b[0m\u001b[1;33m,\u001b[0m \u001b[0mparams\u001b[0m\u001b[1;33m=\u001b[0m\u001b[0mparams\u001b[0m\u001b[1;33m,\u001b[0m \u001b[0mheaders\u001b[0m\u001b[1;33m=\u001b[0m\u001b[0mheaders\u001b[0m\u001b[1;33m,\u001b[0m \u001b[0mbody\u001b[0m\u001b[1;33m=\u001b[0m\u001b[0mbody\u001b[0m\u001b[1;33m\u001b[0m\u001b[1;33m\u001b[0m\u001b[0m\n\u001b[0;32m    392\u001b[0m         )\n",
      "\u001b[1;32mD:\\anaconda3\\lib\\site-packages\\elasticsearch\\_sync\\client\\_base.py\u001b[0m in \u001b[0;36mperform_request\u001b[1;34m(self, method, path, params, headers, body)\u001b[0m\n\u001b[0;32m    319\u001b[0m                     \u001b[1;32mpass\u001b[0m\u001b[1;33m\u001b[0m\u001b[1;33m\u001b[0m\u001b[0m\n\u001b[0;32m    320\u001b[0m \u001b[1;33m\u001b[0m\u001b[0m\n\u001b[1;32m--> 321\u001b[1;33m             raise HTTP_EXCEPTIONS.get(meta.status, ApiError)(\n\u001b[0m\u001b[0;32m    322\u001b[0m                 \u001b[0mmessage\u001b[0m\u001b[1;33m=\u001b[0m\u001b[0mmessage\u001b[0m\u001b[1;33m,\u001b[0m \u001b[0mmeta\u001b[0m\u001b[1;33m=\u001b[0m\u001b[0mmeta\u001b[0m\u001b[1;33m,\u001b[0m \u001b[0mbody\u001b[0m\u001b[1;33m=\u001b[0m\u001b[0mresp_body\u001b[0m\u001b[1;33m\u001b[0m\u001b[1;33m\u001b[0m\u001b[0m\n\u001b[0;32m    323\u001b[0m             )\n",
      "\u001b[1;31mBadRequestError\u001b[0m: BadRequestError(400, 'resource_already_exists_exception', 'index [bills_index/PqatbuxbQD-VdUk3cvLC9w] already exists')"
     ]
    }
   ],
   "source": [
    "indx = es.indices.create(index = INDEX_NAME,\n",
    "                        mappings = mapping,\n",
    "                        settings = {\n",
    "                            'analysis' : {\n",
    "                                'analyzer' : analyzer,\n",
    "                                'filter': synonym\n",
    "                            }\n",
    "                        })"
   ]
  },
  {
   "cell_type": "markdown",
   "id": "6bbc8d10",
   "metadata": {},
   "source": [
    "### 5. Load the data to the ES index."
   ]
  },
  {
   "cell_type": "code",
   "execution_count": 8,
   "id": "d808e6a2",
   "metadata": {},
   "outputs": [],
   "source": [
    "directory = 'ustawy'\n",
    "\n",
    "def load_bills(directory):\n",
    "    bills = {}\n",
    "    for file_name in os.listdir(directory):\n",
    "        path = os.path.join(directory, file_name)\n",
    "        if os.path.isfile(path):\n",
    "            with open(path, encoding='utf-8') as f:\n",
    "                content = f.read()\n",
    "                content = content.replace(\"\\xa0\", \" \").replace(\"\\xad\", \"\")\n",
    "                content = re.sub(r\"\\s+\", \" \", content)\n",
    "                bills[file_name] = content\n",
    "    return bills"
   ]
  },
  {
   "cell_type": "code",
   "execution_count": 9,
   "id": "7b635526",
   "metadata": {},
   "outputs": [],
   "source": [
    "bills = load_bills(directory)"
   ]
  },
  {
   "cell_type": "code",
   "execution_count": 10,
   "id": "588e9e41",
   "metadata": {},
   "outputs": [],
   "source": [
    "for name, content in bills.items():\n",
    "    es.index(index=INDEX_NAME,\n",
    "    id=name,\n",
    "    document={\n",
    "        \"text\": content\n",
    "    })"
   ]
  },
  {
   "cell_type": "code",
   "execution_count": 11,
   "id": "c83a11a2",
   "metadata": {},
   "outputs": [
    {
     "data": {
      "text/plain": [
       "ObjectApiResponse({'count': 1178, '_shards': {'total': 1, 'successful': 1, 'skipped': 0, 'failed': 0}})"
      ]
     },
     "execution_count": 11,
     "metadata": {},
     "output_type": "execute_result"
    }
   ],
   "source": [
    "es.count(index=INDEX_NAME)"
   ]
  },
  {
   "cell_type": "markdown",
   "id": "1837b863",
   "metadata": {},
   "source": [
    "### 6. Determine the number of legislative acts containing the word ustawa (in any form)."
   ]
  },
  {
   "cell_type": "code",
   "execution_count": 12,
   "id": "ae041fcc",
   "metadata": {},
   "outputs": [
    {
     "data": {
      "text/plain": [
       "ObjectApiResponse({'count': 1178, '_shards': {'total': 1, 'successful': 1, 'skipped': 0, 'failed': 0}})"
      ]
     },
     "execution_count": 12,
     "metadata": {},
     "output_type": "execute_result"
    }
   ],
   "source": [
    "es.count(index=INDEX_NAME, \n",
    "         query={'match': \n",
    "                    {'text': \n",
    "                         {'query': \"ustawa\"}\n",
    "                    }\n",
    "               })"
   ]
  },
  {
   "cell_type": "markdown",
   "id": "08107b17",
   "metadata": {},
   "source": [
    "### 7. Determine the number of occurrences of the word ustawa by searching for this particular form, including the other inflectional forms.\n"
   ]
  },
  {
   "cell_type": "code",
   "execution_count": 13,
   "id": "7b2c0a8d",
   "metadata": {},
   "outputs": [
    {
     "data": {
      "text/plain": [
       "ObjectApiResponse({'term_vectors': {'text': {'terms': {'ustawa': {'ttf': 24937}}}}})"
      ]
     },
     "execution_count": 13,
     "metadata": {},
     "output_type": "execute_result"
    }
   ],
   "source": [
    "es.termvectors(\n",
    "    index=INDEX_NAME,\n",
    "    id=\"2000_5.txt\",\n",
    "    fields=[\"text\"],\n",
    "    filter_path=[\"term_vectors.text.terms.ustawa.ttf\"],\n",
    "    term_statistics=True\n",
    ")\n",
    "# total term frequency"
   ]
  },
  {
   "cell_type": "markdown",
   "id": "08a0f12e",
   "metadata": {},
   "source": [
    "### 8. Determine the number of occurrences of the word ustaw by searching for this particular form, including the other inflectional forms.\n"
   ]
  },
  {
   "cell_type": "code",
   "execution_count": 18,
   "id": "17272927",
   "metadata": {
    "scrolled": true
   },
   "outputs": [
    {
     "name": "stderr",
     "output_type": "stream",
     "text": [
      "<ipython-input-18-bffc6ed5b7f0>:1: DeprecationWarning: The 'body' parameter is deprecated and will be removed in a future version. Instead use individual parameters.\n",
      "  ustaw_occur = es.indices.analyze(index=INDEX_NAME, body={\n"
     ]
    }
   ],
   "source": [
    "ustaw_occur = es.indices.analyze(index=INDEX_NAME, body={\n",
    "    \"analyzer\": f'{ANALYZER_NAME}',\n",
    "    \"text\": \"ustaw\"\n",
    "})['tokens']"
   ]
  },
  {
   "cell_type": "code",
   "execution_count": 34,
   "id": "1ae7041a",
   "metadata": {},
   "outputs": [],
   "source": [
    "ustaw_forms = [token['token'] for token in ustaw_occur]"
   ]
  },
  {
   "cell_type": "code",
   "execution_count": 35,
   "id": "10e8d6bd",
   "metadata": {},
   "outputs": [
    {
     "data": {
      "text/plain": [
       "['ustawa', 'ustawić']"
      ]
     },
     "execution_count": 35,
     "metadata": {},
     "output_type": "execute_result"
    }
   ],
   "source": [
    "ustaw_forms"
   ]
  },
  {
   "cell_type": "code",
   "execution_count": 44,
   "id": "a6583be2",
   "metadata": {},
   "outputs": [
    {
     "name": "stdout",
     "output_type": "stream",
     "text": [
      "25850\n"
     ]
    }
   ],
   "source": [
    "count_forms = 0\n",
    "for form in ustaw_forms:\n",
    "    res = es.termvectors(\n",
    "            index=INDEX_NAME,\n",
    "            id=\"1993_599.txt\",\n",
    "            fields=[\"text\"],\n",
    "            filter_path=[f\"term_vectors.text.terms.{form}.ttf\"],\n",
    "            term_statistics=True\n",
    "            )['term_vectors']['text']['terms'][f'{form}']['ttf']\n",
    "    count_forms += res\n",
    "print(count_forms)"
   ]
  },
  {
   "cell_type": "code",
   "execution_count": 39,
   "id": "5f1f82c3",
   "metadata": {},
   "outputs": [
    {
     "data": {
      "text/plain": [
       "913"
      ]
     },
     "execution_count": 39,
     "metadata": {},
     "output_type": "execute_result"
    }
   ],
   "source": [
    "es.termvectors(\n",
    "    index=INDEX_NAME,\n",
    "    id=\"1993_599.txt\",\n",
    "    fields=[\"text\"],\n",
    "    filter_path=[\"term_vectors.text.terms.ustawić.ttf\"],\n",
    "    term_statistics=True\n",
    ")['term_vectors']['text']['terms'][form]['ttf']"
   ]
  },
  {
   "cell_type": "markdown",
   "id": "f982e5c7",
   "metadata": {},
   "source": [
    "### 9. Determine the number of legislative acts containing the words kodeks postępowania cywilnego in the specified order, but in any inflection form."
   ]
  },
  {
   "cell_type": "code",
   "execution_count": 57,
   "id": "ce103d4d",
   "metadata": {},
   "outputs": [
    {
     "data": {
      "text/plain": [
       "ObjectApiResponse({'count': 99, '_shards': {'total': 1, 'successful': 1, 'skipped': 0, 'failed': 0}})"
      ]
     },
     "execution_count": 57,
     "metadata": {},
     "output_type": "execute_result"
    }
   ],
   "source": [
    "es.count(index=INDEX_NAME, \n",
    "         query={'match_phrase': {'text': \"kodeks postępowania cywilnego\"}})"
   ]
  },
  {
   "cell_type": "markdown",
   "id": "1281fef8",
   "metadata": {},
   "source": [
    "### 10. Determine the number of legislative acts containing the words wchodzi w życie (in any form) allowing for up to 2 additional words in the searched phrase."
   ]
  },
  {
   "cell_type": "code",
   "execution_count": 58,
   "id": "fd5b007c",
   "metadata": {},
   "outputs": [
    {
     "data": {
      "text/plain": [
       "ObjectApiResponse({'count': 1174, '_shards': {'total': 1, 'successful': 1, 'skipped': 0, 'failed': 0}})"
      ]
     },
     "execution_count": 58,
     "metadata": {},
     "output_type": "execute_result"
    }
   ],
   "source": [
    "es.count(index=INDEX_NAME, \n",
    "         query={'match_phrase': {'text': {'query': \"wchodzi w życie\", 'slop': 2}}})"
   ]
  },
  {
   "cell_type": "markdown",
   "id": "e7d77bf8",
   "metadata": {},
   "source": [
    "### 11. Determine the 10 documents that are the most relevant for the phrase konstytucja."
   ]
  },
  {
   "cell_type": "code",
   "execution_count": 85,
   "id": "16902264",
   "metadata": {},
   "outputs": [],
   "source": [
    "konstytucja = es.search(\n",
    "    index=INDEX_NAME,\n",
    "    query={'match': {'text': \"konstytucja\"}},\n",
    "    filter_path=[\"hits.hits._id\", \"hits.hits._score\"],\n",
    "    size=10\n",
    ")"
   ]
  },
  {
   "cell_type": "code",
   "execution_count": 93,
   "id": "086a558c",
   "metadata": {},
   "outputs": [
    {
     "data": {
      "text/plain": [
       "{'hits': [{'_id': '1997_629.txt', '_score': 6.8676424},\n",
       "  {'_id': '2000_443.txt', '_score': 6.6627803},\n",
       "  {'_id': '1997_604.txt', '_score': 6.632101},\n",
       "  {'_id': '1996_350.txt', '_score': 6.6268387},\n",
       "  {'_id': '1997_642.txt', '_score': 6.2516546},\n",
       "  {'_id': '2001_23.txt', '_score': 6.058013},\n",
       "  {'_id': '1996_199.txt', '_score': 5.928105},\n",
       "  {'_id': '1999_688.txt', '_score': 5.8497677},\n",
       "  {'_id': '1997_681.txt', '_score': 5.466618},\n",
       "  {'_id': '2001_1082.txt', '_score': 5.466618}]}"
      ]
     },
     "execution_count": 93,
     "metadata": {},
     "output_type": "execute_result"
    }
   ],
   "source": [
    "konstytucja['hits']"
   ]
  },
  {
   "cell_type": "markdown",
   "id": "5af3c30e",
   "metadata": {},
   "source": [
    "### 12. Print the excerpts containing the word konstytucja (up to three excerpts per document) from the previous task. "
   ]
  },
  {
   "cell_type": "code",
   "execution_count": 94,
   "id": "44093a49",
   "metadata": {},
   "outputs": [
    {
     "data": {
      "text/plain": [
       "[{'_id': '1997_629.txt',\n",
       "  'highlight': {'text': ['Inicjatywa ustawodawcza w zakresie przedstawienia Zgromadzeniu Narodowemu projektu nowej <em>Konstytucji</em>',\n",
       "    'Do zgłoszenia projektu <em>Konstytucji</em> załącza się wykaz obywateli popierających zgłoszenie, zawierający',\n",
       "    'Zasady, na których opierać się ma <em>Konstytucja</em> mogą być poddane pod referendum. 2.']}},\n",
       " {'_id': '2000_443.txt',\n",
       "  'highlight': {'text': ['umowy międzynarodowej lub załącznika nie wypełnia przesłanek określonych w art. 89 ust. 1 lub art. 90 <em>Konstytucji</em>',\n",
       "    'okoliczności, a umowa międzynarodowa nie wypełnia przesłanek określonych w art. 89 ust. 1 lub art. 90 <em>Konstytucji</em>',\n",
       "    'Polskiej do ratyfikacji jest dokonywane po uzyskaniu zgody, o której mowa w art. 89 ust. 1 i art. 90 <em>Konstytucji</em>']}},\n",
       " {'_id': '1997_604.txt',\n",
       "  'highlight': {'text': ['W razie powstania wątpliwości co do zgodności z <em>Konstytucją</em> celów lub zasad działania partii politycznej',\n",
       "    'Jeżeli Trybunał Konstytucyjny wyda orzeczenie o sprzeczności celów partii politycznej z <em>Konstytucją</em>,',\n",
       "    'Wnioski o stwierdzenie zgodności z <em>Konstytucją</em> celów partii politycznych, określonych w statucie lub']}},\n",
       " {'_id': '1996_350.txt',\n",
       "  'highlight': {'text': ['Za naruszenie <em>Konstytucji</em> lub ustawy, w związku z zajmowanym stanowiskiem lub w zakresie swojego urzędowania',\n",
       "    'W zakresie określonym w art. 107 <em>Konstytucji</em> odpowiedzialność przed Trybunałem Stanu ponoszą również',\n",
       "    'Prezydent może być pociągnięty do odpowiedzialności przed Trybunałem Stanu za naruszenie <em>Konstytucji</em>,']}},\n",
       " {'_id': '1997_642.txt',\n",
       "  'highlight': {'text': ['Trybunału Konstytucyjnego z wnioskami o: 1) stwierdzenie zgodności ustaw i umów międzynarodowych z <em>Konstytucją</em>',\n",
       "    'w ustawie, 3) stwierdzenie zgodności przepisów prawa wydawanych przez centralne organy państwowe, z <em>Konstytucją</em>',\n",
       "    ', ratyfikowanymi umowami międzynarodowymi i ustawami, 4) stwierdzenie zgodności z <em>Konstytucją</em> celów lub']}},\n",
       " {'_id': '2001_23.txt',\n",
       "  'highlight': {'text': ['W Dzienniku Ustaw Rzeczypospolitej Polskiej, zwanym dalej \"Dziennikiem Ustaw\", ogłasza się: 1) <em>Konstytucję</em>',\n",
       "    'również akty prawne dotyczące: 1) stanu wojny i zawarcia pokoju, 2) referendum zatwierdzającego zmianę <em>Konstytucji</em>',\n",
       "    'Rzeczypospolitej Polskiej, wyborów do Sejmu i Senatu oraz ważności referendum zatwierdzającego zmianę <em>Konstytucji</em>']}},\n",
       " {'_id': '1996_199.txt',\n",
       "  'highlight': {'text': ['2c i art. 9-11 ustawy konstytucyjnej z dnia 23 kwietnia 1992 r. o trybie przygotowania i uchwalenia <em>Konstytucji</em>',\n",
       "    'Prezydent Rzeczypospolitej Polskiej zarządza poddanie <em>Konstytucji</em> pod referendum w trybie określonym',\n",
       "    'Przyjęcie w referendum <em>Konstytucji</em> następuje wówczas, gdy opowiedziała się za nią większość biorących']}},\n",
       " {'_id': '1999_688.txt',\n",
       "  'highlight': {'text': ['postępowania w sprawie wykonywania inicjatywy ustawodawczej przez obywateli, o której mowa w art. 118 ust. 2 <em>Konstytucji</em>',\n",
       "    'Projekt ustawy nie może dotyczyć spraw, dla których <em>Konstytucja</em> Rzeczypospolitej Polskiej zastrzega wyłączną',\n",
       "    'Projekt ustawy wniesiony do Marszałka Sejmu powinien odpowiadać wymogom zawartym w <em>Konstytucji</em> i Regulaminie']}},\n",
       " {'_id': '1997_681.txt',\n",
       "  'highlight': {'text': ['Rzecznik Praw Dziecka, zwany dalej Rzecznikiem, stoi na straży praw dziecka określonych w <em>Konstytucji</em>',\n",
       "    'uroczyście, że przy wykonywaniu powierzonych mi obowiązków Rzecznika Praw Dziecka dochowam wierności <em>Konstytucji</em>']}},\n",
       " {'_id': '2001_1082.txt',\n",
       "  'highlight': {'text': ['Krajowa Rada Sądownictwa, zwana dalej \"Radą\", realizuje cele określone w <em>Konstytucji</em> Rzeczypospolitej',\n",
       "    'szczególności: 1) podejmuje uchwały w sprawach wystąpienia do Trybunału Konstytucyjnego o zbadanie zgodności z <em>Konstytucją</em>']}}]"
      ]
     },
     "execution_count": 94,
     "metadata": {},
     "output_type": "execute_result"
    }
   ],
   "source": [
    "es.search(\n",
    "    index=INDEX_NAME,\n",
    "    query={'match': {'text': \"konstytucja\"}},\n",
    "    highlight={'fields': {'text': {'number_of_fragments': 3}}},\n",
    "    filter_path=[\"hits.hits._id\", \"hits.hits.highlight\"],\n",
    "    size=10\n",
    ")['hits'][\"hits\"]"
   ]
  },
  {
   "cell_type": "code",
   "execution_count": null,
   "id": "31b5d93e",
   "metadata": {},
   "outputs": [],
   "source": []
  }
 ],
 "metadata": {
  "kernelspec": {
   "display_name": "Python 3 (ipykernel)",
   "language": "python",
   "name": "python3"
  },
  "language_info": {
   "codemirror_mode": {
    "name": "ipython",
    "version": 3
   },
   "file_extension": ".py",
   "mimetype": "text/x-python",
   "name": "python",
   "nbconvert_exporter": "python",
   "pygments_lexer": "ipython3",
   "version": "3.9.7"
  }
 },
 "nbformat": 4,
 "nbformat_minor": 5
}
